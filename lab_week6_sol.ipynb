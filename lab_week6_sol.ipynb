{
 "cells": [
  {
   "cell_type": "markdown",
   "id": "8c5f9f59",
   "metadata": {},
   "source": [
    "# Computer Lab Exercises week 6 (SOLUTIONS)"
   ]
  },
  {
   "cell_type": "markdown",
   "id": "b3f4f1ea",
   "metadata": {},
   "source": [
    "* These lab exercises are designed to introduce the use of SQL to extract information from a database.\n",
    "* A screencast on downloading jupyter notebooks from the online store.\n",
    "https://youtu.be/1zY7hIj5tWg\n",
    "* These exercises are **not** part of the assessment of the Module.\n",
    "* I will post the solutions roughly 1 week after this file has been uploaded to the DLE.\n",
    "* Please note that pasting python from pdf can sometimes cause problems. For example quotation marks can sometimes be converted incorrectly, so then running python will cause errors.\n",
    "\n",
    "* See https://sites.google.com/view/pythonforstemstudents/home for a collection\n",
    "of links to information on python.\n"
   ]
  },
  {
   "cell_type": "markdown",
   "id": "1651e2f2",
   "metadata": {},
   "source": [
    "## Question 1  Questions about SQL\n",
    "\n",
    "Thare is a list of SQL commands at https://www.w3schools.com/sql/sql_syntax.asp.\n"
   ]
  },
  {
   "cell_type": "markdown",
   "id": "87e2b291",
   "metadata": {},
   "source": [
    "Download the SQLite file from **SimpleFolks for Simple SQL**\n",
    "http://2016.padjo.org/files/data/starterpack/simplefolks.sqlite The file simplefolks.sqlite needs to be in the same directory as this notebook.\n",
    "\n",
    "You can read more about the dataset at http://2016.padjo.org/tutorials/sql-simplefolks-select-from/\n",
    "\n",
    "The above database has the following tables:\n",
    "homes, inmates, people, pets and politicians.\n",
    "The people database has the column names: \n",
    "name, sex and age.\n",
    "\n",
    "Use SQL via python to answer the following questions.\n",
    "\n",
    "\n",
    "* Find all the names in the people table.\n",
    "* Find all the names in the people table, for the people younger than 30 years old.\n",
    "* Find all the names of the men in the people table.\n",
    "* Find the average age of the people in the people table.\n",
    "* Find the table names from the database file.\n"
   ]
  },
  {
   "cell_type": "code",
   "execution_count": 7,
   "id": "af2144f8",
   "metadata": {},
   "outputs": [
    {
     "name": "stdout",
     "output_type": "stream",
     "text": [
      "List the content of the people table\n",
      "('Austin', 'M', 33)\n",
      "('Blair', 'M', 90)\n",
      "('Carolina', 'F', 28)\n",
      "('Dani', 'F', 41)\n",
      "('Donald', 'M', 70)\n",
      "('Eliza', 'F', 37)\n",
      "('Farida', 'F', 23)\n",
      "('Georgina', 'F', 19)\n",
      "('Hillary', 'F', 68)\n",
      "('Leland', 'M', 16)\n",
      "('Liam', 'M', 22)\n",
      "('Michael', 'M', 48)\n",
      "('Phoebe', 'F', 52)\n",
      "('Sherry', 'F', 39)\n",
      "('Zed', 'M', 42)\n"
     ]
    }
   ],
   "source": [
    "import sqlite3\n",
    "connection = sqlite3.connect(\"simplefolks.sqlite\")\n",
    "cursor = connection.cursor()\n",
    "\n",
    "# you can change the SQL command\n",
    "cursor.execute(\"SELECT * FROM people\") \n",
    "print(\"List the content of the people table\")\n",
    "result = cursor.fetchall() \n",
    "for r in result:\n",
    "    print(r)\n"
   ]
  },
  {
   "cell_type": "code",
   "execution_count": 8,
   "id": "7b5f1eab",
   "metadata": {},
   "outputs": [],
   "source": [
    "# Put your solution here"
   ]
  },
  {
   "cell_type": "code",
   "execution_count": 9,
   "id": "97ae5df0",
   "metadata": {},
   "outputs": [
    {
     "name": "stdout",
     "output_type": "stream",
     "text": [
      "List of all the  names\n",
      "Austin\n",
      "Blair\n",
      "Carolina\n",
      "Dani\n",
      "Donald\n",
      "Eliza\n",
      "Farida\n",
      "Georgina\n",
      "Hillary\n",
      "Leland\n",
      "Liam\n",
      "Michael\n",
      "Phoebe\n",
      "Sherry\n",
      "Zed\n",
      "List of all the  names under 30\n",
      "Carolina\n",
      "Farida\n",
      "Georgina\n",
      "Leland\n",
      "Liam\n",
      "List of males\n",
      "Austin\n",
      "Blair\n",
      "Donald\n",
      "Leland\n",
      "Liam\n",
      "Michael\n",
      "Zed\n",
      "Average age =  [(41.86666666666667,)]\n",
      "The table names in the database\n",
      "homes\n",
      "people\n",
      "pets\n",
      "inmates\n",
      "politicians\n"
     ]
    }
   ],
   "source": [
    "#  Put your solutions here\n",
    "\n",
    "import sqlite3\n",
    "\n",
    "connection = sqlite3.connect(\"simplefolks.sqlite\")\n",
    "cursor = connection.cursor()\n",
    "\n",
    "##################################################\n",
    "cursor.execute(\"SELECT name FROM people\") \n",
    "print(\"List of all the  names\")\n",
    "result = cursor.fetchall() \n",
    "for r in result:\n",
    "    print(r[0])\n",
    "\n",
    "\n",
    "##################################################\n",
    "cursor.execute(\"SELECT name FROM people where age < 30\") \n",
    "print(\"List of all the  names under 30\")\n",
    "result = cursor.fetchall() \n",
    "for r in result:\n",
    "    print(r[0])\n",
    "\n",
    "##################################################\n",
    "cursor.execute(\"SELECT name FROM people where sex='M' \") \n",
    "print(\"List of males\")\n",
    "result = cursor.fetchall() \n",
    "for r in result:\n",
    "    print(r[0])\n",
    "\n",
    "\n",
    "##################################################\n",
    "cursor.execute(\"SELECT Avg(Age) FROM people\") \n",
    "result = cursor.fetchall() \n",
    "print(\"Average age = \", result)\n",
    "\n",
    "##################################################\n",
    "## https://stackoverflow.com/questions/34570260/how-to-get-table-names-using-sqlite3-through-python/34570549\n",
    "cursor.execute(\"SELECT name FROM sqlite_master WHERE type='table';\") \n",
    "result = cursor.fetchall() \n",
    "\n",
    "print(\"The table names in the database\")\n",
    "for r in result:\n",
    "    print(r[0])\n",
    "\n",
    "\n"
   ]
  },
  {
   "cell_type": "markdown",
   "id": "3412349f",
   "metadata": {},
   "source": [
    "##  Question 2: SQL and python\n",
    "\n",
    "\n",
    "We have been using python to run SQL \n",
    "queries from a SQLite database. However,\n",
    "we have used a separate python script for\n",
    "each query. It would be better to ask the\n",
    "user for the SQL query."
   ]
  },
  {
   "cell_type": "code",
   "execution_count": 10,
   "id": "e04873ea",
   "metadata": {},
   "outputs": [
    {
     "name": "stdout",
     "output_type": "stream",
     "text": [
      "Input SQL commandselect * from people\n",
      "Executing  select * from people\n"
     ]
    }
   ],
   "source": [
    "sql_ = input(\"Input SQL command\")\n",
    "print(\"Executing \", sql_)"
   ]
  },
  {
   "cell_type": "markdown",
   "id": "86c28a69",
   "metadata": {},
   "source": [
    "Modify the cell above so the user can input an abrbitary SQL statement \n",
    "on the simplefolks.sqlite database.\n",
    "Also include exception handling\n",
    "to check for errors.\n",
    "\n",
    "\n",
    "\n",
    "Please read about SQL injection attacks at\n",
    "https://www.tutlane.com/tutorial/sqlite/sqlite-injection-attacks.\n",
    "This is just for information."
   ]
  },
  {
   "cell_type": "code",
   "execution_count": 11,
   "id": "aec1718c",
   "metadata": {},
   "outputs": [],
   "source": [
    "# put your solution here"
   ]
  },
  {
   "cell_type": "code",
   "execution_count": 12,
   "id": "4aaa78ad",
   "metadata": {},
   "outputs": [
    {
     "name": "stdout",
     "output_type": "stream",
     "text": [
      "Input SQL commandselect * from people\n",
      "Executing  select * from people\n",
      "Results from  select * from people\n",
      "('Austin', 'M', 33)\n",
      "('Blair', 'M', 90)\n",
      "('Carolina', 'F', 28)\n",
      "('Dani', 'F', 41)\n",
      "('Donald', 'M', 70)\n",
      "('Eliza', 'F', 37)\n",
      "('Farida', 'F', 23)\n",
      "('Georgina', 'F', 19)\n",
      "('Hillary', 'F', 68)\n",
      "('Leland', 'M', 16)\n",
      "('Liam', 'M', 22)\n",
      "('Michael', 'M', 48)\n",
      "('Phoebe', 'F', 52)\n",
      "('Sherry', 'F', 39)\n",
      "('Zed', 'M', 42)\n"
     ]
    }
   ],
   "source": [
    "# put your solution here\n",
    "\n",
    "import sqlite3\n",
    "connection = sqlite3.connect(\"simplefolks.sqlite\")\n",
    "cursor = connection.cursor()\n",
    "\n",
    "sql_ = input(\"Input SQL command\")\n",
    "print(\"Executing \", sql_)\n",
    "\n",
    "# you can change the SQL command\n",
    "try:\n",
    "  cursor.execute(sql_) \n",
    "except:\n",
    "    print(\"Error with \" , sql_)\n",
    "\n",
    "\n",
    "print(\"Results from \", sql_)\n",
    "result = cursor.fetchall() \n",
    "for r in result:\n",
    "    print(r)"
   ]
  },
  {
   "cell_type": "markdown",
   "id": "d7d088cf",
   "metadata": {},
   "source": [
    "##  Question 3, plotting the data from a database\n",
    "\n",
    "Use SQL to extract the ages of the Males and Females seperately. Plot the ages of the males and females in the same histogram. The plot should look like the figure below.\n"
   ]
  },
  {
   "cell_type": "code",
   "execution_count": 13,
   "id": "b7d7db3b",
   "metadata": {},
   "outputs": [
    {
     "data": {
      "image/png": "[encoded data removed]",
      "text/plain": [
       "<Figure size 432x288 with 1 Axes>"
      ]
     },
     "metadata": {
      "needs_background": "light"
     },
     "output_type": "display_data"
    }
   ],
   "source": [
    "import sqlite3\n",
    "import matplotlib.pyplot as plt\n",
    "\n",
    "connection = sqlite3.connect(\"simplefolks.sqlite\")\n",
    "cursor = connection.cursor()\n",
    "\n",
    "# Find the ages of males\n",
    "cursor.execute(\"SELECT age FROM people where sex='M' \") \n",
    "result = cursor.fetchall() \n",
    "male_age = []\n",
    "for r in result:\n",
    "    male_age.append(r[0])\n",
    "\n",
    "# Find the ages of females\n",
    "cursor.execute(\"SELECT age FROM people where sex='F' \") \n",
    "result = cursor.fetchall() \n",
    "female_age = []\n",
    "for r in result:\n",
    "    female_age.append(r[0])\n",
    "\n",
    "\n",
    "# The alpha parameter controls the transparancy of the hstogram  \n",
    "# https://www.adamsmith.haus/python/answers/how-to-plot-two-histograms-on-one-plot-using-matplotlib-in-python\n",
    "plt.hist(male_age, label=\"Male\", alpha=0.5,)\n",
    "plt.hist(female_age, label=\"Female\" , alpha=0.5,)\n",
    "plt.xlabel(\"Age years\")\n",
    "plt.legend()\n",
    "plt.show()"
   ]
  },
  {
   "cell_type": "code",
   "execution_count": null,
   "id": "1541d422",
   "metadata": {},
   "outputs": [],
   "source": []
  }
 ],
 "metadata": {
  "kernelspec": {
   "display_name": "Python 3 (ipykernel)",
   "language": "python",
   "name": "python3"
  },
  "language_info": {
   "codemirror_mode": {
    "name": "ipython",
    "version": 3
   },
   "file_extension": ".py",
   "mimetype": "text/x-python",
   "name": "python",
   "nbconvert_exporter": "python",
   "pygments_lexer": "ipython3",
   "version": "3.10.0"
  }
 },
 "nbformat": 4,
 "nbformat_minor": 5
}
